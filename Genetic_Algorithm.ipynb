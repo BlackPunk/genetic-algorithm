{
  "nbformat": 4,
  "nbformat_minor": 0,
  "metadata": {
    "colab": {
      "name": "Genetic Algorithm.ipynb",
      "provenance": [],
      "collapsed_sections": [],
      "authorship_tag": "ABX9TyO4PL3i2o+WIKD6710Sv1Qf",
      "include_colab_link": true
    },
    "kernelspec": {
      "name": "python3",
      "display_name": "Python 3"
    },
    "language_info": {
      "name": "python"
    }
  },
  "cells": [
    {
      "cell_type": "markdown",
      "metadata": {
        "id": "view-in-github",
        "colab_type": "text"
      },
      "source": [
        "<a href=\"https://colab.research.google.com/github/BlackPunk/genetic-algorithm/blob/main/Genetic_Algorithm.ipynb\" target=\"_parent\"><img src=\"https://colab.research.google.com/assets/colab-badge.svg\" alt=\"Open In Colab\"/></a>"
      ]
    },
    {
      "cell_type": "markdown",
      "metadata": {
        "id": "0wihnhAsPjOz"
      },
      "source": [
        "\n",
        "\n",
        "> Import Library\n",
        "\n"
      ]
    },
    {
      "cell_type": "code",
      "metadata": {
        "id": "bbgAiSLdEkw6"
      },
      "source": [
        "import random\n",
        "import math\n",
        "import time\n",
        "from IPython.display import clear_output"
      ],
      "execution_count": 53,
      "outputs": []
    },
    {
      "cell_type": "markdown",
      "metadata": {
        "id": "ZD4F0NiJPrAL"
      },
      "source": [
        "## Generate population\n",
        "> generate n populasi secara acak\n"
      ]
    },
    {
      "cell_type": "code",
      "metadata": {
        "id": "PUPhsbl8Ezlo"
      },
      "source": [
        "def generate_population(ukuran, ukuran_variabel):\n",
        "    populasi = []\n",
        "    for i in range(ukuran):\n",
        "        individu = {\n",
        "            \"x\": [int(random.choice([1, 0])) for j in range(ukuran_variabel)],\n",
        "            \"y\": [int(random.choice([1, 0])) for j in range(ukuran_variabel)]\n",
        "        }\n",
        "        populasi.append(individu)\n",
        "\n",
        "    return populasi"
      ],
      "execution_count": 18,
      "outputs": []
    },
    {
      "cell_type": "markdown",
      "metadata": {
        "id": "b2WrZkKdQ99r"
      },
      "source": [
        "## Dekode kromosom"
      ]
    },
    {
      "cell_type": "code",
      "metadata": {
        "id": "nhZkb2L5E4Ti"
      },
      "source": [
        "def decode_kromosom(individu):\n",
        "    x = individu['x']\n",
        "    y = individu['y']\n",
        "\n",
        "    def rumus_part(var):\n",
        "        part1, part2 = (0, 0)\n",
        "        for i in range(len(var)):\n",
        "            part1 += 2**-(i+1)\n",
        "            part2 += var[i]*(2**-(i+1))\n",
        "\n",
        "        return part1, part2\n",
        "\n",
        "    def rumus(part1, part2, batas):\n",
        "        batas_bawah, batas_atas = batas\n",
        "        return batas_bawah+((batas_atas-batas_bawah)/part1)*part2\n",
        "\n",
        "    part1, part2 = rumus_part(x)\n",
        "    nilai_x = rumus(part1, part2, BATAS_X)\n",
        "    part1, part2 = rumus_part(y)\n",
        "    nilai_y = rumus(part1, part2, BATAS_Y)\n",
        "    return nilai_x, nilai_y"
      ],
      "execution_count": 29,
      "outputs": []
    },
    {
      "cell_type": "markdown",
      "metadata": {
        "id": "PBG23meaRGmJ"
      },
      "source": [
        "## Perhitungan fitness"
      ]
    },
    {
      "cell_type": "code",
      "metadata": {
        "id": "VN2-BhNNcs5y"
      },
      "source": [
        "def hitung_fitness(individu):\n",
        "    x, y = decode_kromosom(individu)\n",
        "    return (math.cos(x**2) * math.sin(y**2)) + (x + y)"
      ],
      "execution_count": 20,
      "outputs": []
    },
    {
      "cell_type": "markdown",
      "metadata": {
        "id": "NamBQXqIRbzc"
      },
      "source": [
        "## Fungsi sorting populasi berdasarkan nilai fitness"
      ]
    },
    {
      "cell_type": "code",
      "metadata": {
        "id": "PUJuSRgNcweu"
      },
      "source": [
        "def sorting_populasi_by_fitness(populasi):\n",
        "    return sorted(populasi, key=hitung_fitness, reverse=True)"
      ],
      "execution_count": 22,
      "outputs": []
    },
    {
      "cell_type": "markdown",
      "metadata": {
        "id": "S_XVzpiaRSaY"
      },
      "source": [
        "## Pemilihan orangtua (Tournament selection)"
      ]
    },
    {
      "cell_type": "code",
      "metadata": {
        "id": "6dtEXIOrcy2j"
      },
      "source": [
        "def tournament_selection(populasi):\n",
        "    orang_tua = random.choices(populasi, k=5)\n",
        "    orang_tua = sorting_populasi_by_fitness(orang_tua)\n",
        "    return orang_tua[0]"
      ],
      "execution_count": 23,
      "outputs": []
    },
    {
      "cell_type": "markdown",
      "metadata": {
        "id": "mWqOalb_Ru3M"
      },
      "source": [
        "## Crossover (rekombinasi)"
      ]
    },
    {
      "cell_type": "code",
      "metadata": {
        "id": "Nf530zLyc0af"
      },
      "source": [
        "def crossover(p1, p2, pc):\n",
        "    if random.random() <= pc:\n",
        "        kromosom_p1 = p1['x'] + p1['y']\n",
        "        kromosom_p2 = p2['x'] + p2['y']\n",
        "        titik = random.choice(range(0, len(kromosom_p1)))\n",
        "        anak1 = kromosom_p1[0:titik] + kromosom_p2[titik:]\n",
        "        anak2 = kromosom_p2[0:titik] + kromosom_p1[titik:]\n",
        "        p1 = {'x': anak1[:(len(kromosom_p1) // 2)], 'y': anak1[(len(kromosom_p1) // 2):]}\n",
        "        p2 = {'x': anak2[:(len(kromosom_p1) // 2)], 'y': anak1[(len(kromosom_p1) // 2):]}\n",
        "    return p1, p2"
      ],
      "execution_count": 24,
      "outputs": []
    },
    {
      "cell_type": "markdown",
      "metadata": {
        "id": "N7HGKAH3R3jb"
      },
      "source": [
        "## Mutasi"
      ]
    },
    {
      "cell_type": "code",
      "metadata": {
        "id": "I-FyG8vVq_sl"
      },
      "source": [
        "def mutasi(offspring, pm):\n",
        "    kromosom = offspring['x'] + offspring['y']\n",
        "    for i in range(len(kromosom)):\n",
        "        if random.random() <= pm:\n",
        "            kromosom[i] = 0 if kromosom[i] == 1 else 1\n",
        "    hasil_mutasi = {'x': kromosom[:(len(kromosom)//2)], 'y': kromosom[(len(kromosom)//2):]}\n",
        "    return hasil_mutasi"
      ],
      "execution_count": 25,
      "outputs": []
    },
    {
      "cell_type": "markdown",
      "metadata": {
        "id": "dWWvx7b2R6SU"
      },
      "source": [
        "## Elitism"
      ]
    },
    {
      "cell_type": "code",
      "metadata": {
        "id": "LXwU67HLuWrW"
      },
      "source": [
        "def elitism(populasi, jumlah):\n",
        "    populasi_terurut = sorting_populasi_by_fitness(populasi)\n",
        "    kaum_elit = [populasi_terurut[i] for i in range(jumlah)]\n",
        "    return kaum_elit"
      ],
      "execution_count": 26,
      "outputs": []
    },
    {
      "cell_type": "markdown",
      "metadata": {
        "id": "r1IBA4e9R-Xp"
      },
      "source": [
        "## Pergantian generasi"
      ]
    },
    {
      "cell_type": "code",
      "metadata": {
        "id": "sXZLOy6zxztP"
      },
      "source": [
        "def pergantian_generasi(populasi_sebelumnya):\n",
        "    populasi_baru = elitism(populasi_sebelumnya, JUMLAH_INDIVIDU_ELIT)\n",
        "    while len(populasi_baru) < UKURAN_POPULASI:\n",
        "        parent1 = tournament_selection(populasi)\n",
        "        parent2 = tournament_selection(populasi)\n",
        "        offspring1, offspring2 = crossover(parent1, parent2, PROBABILITAS_CROSSOVER)\n",
        "        offspring1 = mutasi(offspring1, PROBABILITAS_MUTASI)\n",
        "        offspring2 = mutasi(offspring2, PROBABILITAS_MUTASI)\n",
        "        populasi_baru.extend([offspring1, offspring2])\n",
        "    return populasi_baru"
      ],
      "execution_count": 27,
      "outputs": []
    },
    {
      "cell_type": "markdown",
      "metadata": {
        "id": "DdPvR1cRSC8b"
      },
      "source": [
        "## Main program"
      ]
    },
    {
      "cell_type": "code",
      "metadata": {
        "colab": {
          "base_uri": "https://localhost:8080/"
        },
        "id": "aleUdWn29yrX",
        "outputId": "2a01847b-4da8-4de3-81c2-92201d3b1c30"
      },
      "source": [
        "BATAS_X = (-1, 2)\n",
        "BATAS_Y = (-1, 1)\n",
        "UKURAN_VARIABEL_KROMOSOM = 10\n",
        "UKURAN_POPULASI = 20\n",
        "JUMLAH_GENERASI = 30\n",
        "PROBABILITAS_CROSSOVER = 0.9\n",
        "PROBABILITAS_MUTASI = 0.1\n",
        "JUMLAH_INDIVIDU_ELIT = 2\n",
        "\n",
        "populasi = generate_population(UKURAN_POPULASI, UKURAN_VARIABEL_KROMOSOM)\n",
        "\n",
        "for generasi in range(JUMLAH_GENERASI):\n",
        "    clear_output(wait=True)\n",
        "    print(f'🧬 GENERASI KE-{generasi+1}')\n",
        "    for individu in populasi:\n",
        "       print(f'{individu} | -> {hitung_fitness(individu)}')\n",
        "    populasi = pergantian_generasi(populasi)\n",
        "    time.sleep(0.2)\n",
        "  \n",
        "individu_terbaik = sorting_populasi_by_fitness(populasi)[0]\n",
        "nilai_x, nilai_y = decode_kromosom(individu_terbaik)\n",
        "nilai_fitness = hitung_fitness(individu_terbaik)\n",
        "print(\"\\n==============================================\")\n",
        "print('Didapatkan hasil akhir yang terbaik:')\n",
        "print(f'Kromosom: {individu_terbaik}')\n",
        "print(f'Dengan x = {nilai_x} dan y = {nilai_y} di dapatkan nilai fitness = {nilai_fitness}')\n"
      ],
      "execution_count": 67,
      "outputs": [
        {
          "output_type": "stream",
          "text": [
            "🧬 GENERASI KE-50\n",
            "{'x': [1, 0, 0, 1, 1, 1, 1, 1, 0, 1], 'y': [1, 1, 1, 1, 1, 1, 1, 1, 1, 1]} | -> 2.481727432155131\n",
            "{'x': [1, 0, 0, 1, 1, 1, 1, 1, 0, 1], 'y': [1, 1, 1, 1, 1, 1, 1, 1, 1, 1]} | -> 2.481727432155131\n",
            "{'x': [1, 0, 0, 1, 1, 1, 1, 1, 0, 1], 'y': [1, 1, 1, 1, 1, 1, 1, 1, 1, 1]} | -> 2.481727432155131\n",
            "{'x': [0, 0, 0, 1, 0, 1, 0, 0, 0, 1], 'y': [1, 1, 1, 1, 1, 1, 0, 1, 1, 1]} | -> 0.9107816316542857\n",
            "{'x': [1, 0, 0, 1, 1, 1, 1, 1, 0, 1], 'y': [0, 1, 1, 1, 1, 1, 0, 1, 1, 0]} | -> 0.8497139405519605\n",
            "{'x': [0, 0, 0, 1, 1, 1, 1, 1, 0, 1], 'y': [1, 1, 1, 1, 1, 1, 1, 1, 1, 1]} | -> 1.1412097555421852\n",
            "{'x': [1, 1, 0, 1, 0, 0, 1, 1, 0, 1], 'y': [1, 1, 1, 1, 1, 1, 1, 1, 0, 1]} | -> 1.9919356763618155\n",
            "{'x': [1, 0, 1, 1, 1, 1, 1, 1, 0, 1], 'y': [1, 1, 1, 1, 1, 1, 1, 1, 0, 1]} | -> 2.2602096325320526\n",
            "{'x': [1, 1, 0, 1, 1, 1, 0, 1, 1, 1], 'y': [1, 1, 1, 1, 1, 1, 1, 1, 1, 0]} | -> 1.8961366753144286\n",
            "{'x': [0, 0, 0, 0, 1, 0, 1, 1, 0, 1], 'y': [1, 1, 1, 1, 1, 1, 1, 1, 1, 1]} | -> 0.7456570509234595\n",
            "{'x': [1, 0, 0, 0, 1, 1, 1, 0, 0, 1], 'y': [1, 1, 1, 1, 1, 0, 1, 0, 1, 1]} | -> 2.348748011580372\n",
            "{'x': [1, 0, 0, 1, 1, 1, 1, 1, 0, 1], 'y': [1, 0, 1, 1, 1, 1, 1, 0, 1, 1]} | -> 1.5343315509585063\n",
            "{'x': [1, 0, 0, 1, 1, 1, 1, 1, 0, 1], 'y': [1, 1, 1, 1, 1, 1, 1, 1, 1, 1]} | -> 2.481727432155131\n",
            "{'x': [1, 0, 0, 1, 1, 1, 1, 1, 0, 1], 'y': [1, 1, 1, 0, 1, 1, 1, 1, 1, 1]} | -> 2.2482026523861802\n",
            "{'x': [0, 0, 0, 0, 1, 1, 1, 1, 0, 0], 'y': [1, 1, 1, 0, 1, 1, 1, 1, 1, 1]} | -> 0.5899715398874807\n",
            "{'x': [1, 0, 0, 1, 1, 1, 1, 0, 0, 1], 'y': [0, 1, 1, 0, 1, 0, 1, 1, 1, 1]} | -> 0.7173258195682951\n",
            "{'x': [0, 0, 0, 1, 1, 1, 1, 0, 0, 1], 'y': [1, 1, 1, 0, 1, 1, 1, 0, 0, 1]} | -> 0.8380878379160306\n",
            "{'x': [1, 0, 0, 1, 1, 1, 0, 0, 0, 1], 'y': [1, 0, 1, 0, 1, 1, 1, 1, 1, 1]} | -> 1.3146598260823272\n",
            "{'x': [1, 0, 0, 1, 1, 1, 1, 1, 0, 1], 'y': [1, 1, 1, 1, 1, 1, 1, 1, 1, 0]} | -> 2.4782284741453333\n",
            "{'x': [0, 0, 0, 1, 1, 1, 1, 1, 0, 1], 'y': [1, 0, 1, 1, 1, 1, 1, 0, 0, 1]} | -> 0.07132294347933518\n",
            "\n",
            "==============================================\n",
            "Didapatkan hasil akhir yang terbaik:\n",
            "Kromosom: {'x': [1, 0, 0, 1, 1, 1, 1, 1, 0, 1], 'y': [1, 1, 1, 1, 1, 1, 1, 1, 1, 1]}\n",
            "Dengan x = 0.8680351906158357 dan y = 1.0 di dapatkan nilai fitness = 2.481727432155131\n"
          ],
          "name": "stdout"
        }
      ]
    }
  ]
}